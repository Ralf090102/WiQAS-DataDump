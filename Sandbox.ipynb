{
 "cells": [
  {
   "cell_type": "code",
   "execution_count": 2,
   "id": "7edba75f",
   "metadata": {},
   "outputs": [
    {
     "name": "stdout",
     "output_type": "stream",
     "text": [
      "Category: Cuisine\n",
      "Tags: Sinigang, Filipino Food, Sour Soup\n"
     ]
    }
   ],
   "source": [
    "import requests\n",
    "\n",
    "def categorize_query_with_gemma(question, model=\"gemma3:latest\"):\n",
    "    url = \"http://localhost:11434/api/generate\"\n",
    "    headers = {\"Content-Type\": \"application/json\"}\n",
    "\n",
    "    # Structured prompt\n",
    "    prompt = (\n",
    "        f\"Given the question: \\\"{question}\\\"\\n\"\n",
    "        \"Classify it into a broad category and generate 2–4 relevant tags.\\n\"\n",
    "        \"Respond only in this format:\\n\"\n",
    "        \"Category: <Category Name>\\n\"\n",
    "        \"Tags: <Comma-separated tags>\\n\"\n",
    "    )\n",
    "\n",
    "    payload = {\n",
    "        \"model\": model,\n",
    "        \"prompt\": prompt,\n",
    "        \"stream\": False\n",
    "    }\n",
    "\n",
    "    response = requests.post(url, headers=headers, json=payload)\n",
    "    if response.status_code == 200:\n",
    "        return response.json()[\"response\"]\n",
    "    else:\n",
    "        print(f\"[ERROR] Status: {response.status_code}\")\n",
    "        print(response.text)\n",
    "        return None\n",
    "\n",
    "# Test it!\n",
    "question = \"What is the famous dish sinigang in the Philippines?\"   \n",
    "result = categorize_query_with_gemma(question)\n",
    "print(result)\n"
   ]
  },
  {
   "cell_type": "code",
   "execution_count": 5,
   "id": "3a53630b",
   "metadata": {},
   "outputs": [
    {
     "name": "stdout",
     "output_type": "stream",
     "text": [
      "Item 64 | Field 'answer' | Char: 'â' | Unicode: U+00E2 | Name: LATIN SMALL LETTER A WITH CIRCUMFLEX\n",
      "Item 271 | Field 'answer' | Char: '–' | Unicode: U+2013 | Name: EN DASH\n",
      "Item 291 | Field 'answer' | Char: '–' | Unicode: U+2013 | Name: EN DASH\n",
      "Item 301 | Field 'question' | Char: '–' | Unicode: U+2013 | Name: EN DASH\n",
      "Item 301 | Field 'answer' | Char: '–' | Unicode: U+2013 | Name: EN DASH\n",
      "Item 321 | Field 'answer' | Char: '–' | Unicode: U+2013 | Name: EN DASH\n",
      "Item 381 | Field 'answer' | Char: '–' | Unicode: U+2013 | Name: EN DASH\n",
      "Item 477 | Field 'answer' | Char: '–' | Unicode: U+2013 | Name: EN DASH\n"
     ]
    }
   ],
   "source": [
    "import json\n",
    "import unicodedata\n",
    "\n",
    "with open(\"evaluation.json\", encoding=\"utf-8\") as f:\n",
    "    data = json.load(f)\n",
    "\n",
    "# Define a set of allowed characters (ASCII + common Filipino diacritics + ñ + ’)\n",
    "allowed = set(\"abcdefghijklmnopqrstuvwxyzABCDEFGHIJKLMNOPQRSTUVWXYZ0123456789 .,!?;:'\\\"-()[]{}@#$%^&*/\\\\|_+=~`<>\\n\\r\\táéíóúÁÉÍÓÚñÑ’‘“”\")\n",
    "\n",
    "def is_suspicious(char):\n",
    "    # Allow basic and Filipino/Spanish letters, digits, and common punctuation\n",
    "    if char in allowed:\n",
    "        return False\n",
    "    # Allow space and newlines\n",
    "    if char in (' ', '\\n', '\\r', '\\t'):\n",
    "        return False\n",
    "    # Allow combining marks (for diacritics)\n",
    "    if unicodedata.category(char).startswith('M'):\n",
    "        return False\n",
    "    # Otherwise, flag as suspicious\n",
    "    return True\n",
    "\n",
    "for entry in data:\n",
    "    item = entry.get(\"item\", \"N/A\")\n",
    "    for key, value in entry.items():\n",
    "        if isinstance(value, str):\n",
    "            for c in value:\n",
    "                if is_suspicious(c):\n",
    "                    print(\n",
    "                        f\"Item {item} | Field '{key}' | Char: '{c}' | Unicode: U+{ord(c):04X} | Name: {unicodedata.name(c, 'UNKNOWN')}\"\n",
    "                    )"
   ]
  }
 ],
 "metadata": {
  "kernelspec": {
   "display_name": ".venv",
   "language": "python",
   "name": "python3"
  },
  "language_info": {
   "codemirror_mode": {
    "name": "ipython",
    "version": 3
   },
   "file_extension": ".py",
   "mimetype": "text/x-python",
   "name": "python",
   "nbconvert_exporter": "python",
   "pygments_lexer": "ipython3",
   "version": "3.13.3"
  }
 },
 "nbformat": 4,
 "nbformat_minor": 5
}
