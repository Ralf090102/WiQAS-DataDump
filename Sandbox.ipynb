{
 "cells": [
  {
   "cell_type": "code",
   "execution_count": null,
   "id": "7edba75f",
   "metadata": {},
   "outputs": [
    {
     "name": "stdout",
     "output_type": "stream",
     "text": [
      "Category: Cuisine\n",
      "Tags: Sinigang, Filipino Food, Sour Soup, Tamarind\n"
     ]
    }
   ],
   "source": [
    "import requests\n",
    "\n",
    "def categorize_query_with_gemma(question, model=\"gemma3:latest\"):\n",
    "    url = \"http://localhost:11434/api/generate\"\n",
    "    headers = {\"Content-Type\": \"application/json\"}\n",
    "\n",
    "    # Structured prompt\n",
    "    prompt = (\n",
    "        f\"Given the question: \\\"{question}\\\"\\n\"\n",
    "        \"Classify it into a broad category and generate 2–4 relevant tags.\\n\"\n",
    "        \"Respond only in this format:\\n\"\n",
    "        \"Category: <Category Name>\\n\"\n",
    "        \"Tags: <Comma-separated tags>\\n\"\n",
    "    )\n",
    "\n",
    "    payload = {\n",
    "        \"model\": model,\n",
    "        \"prompt\": prompt,\n",
    "        \"stream\": False\n",
    "    }\n",
    "\n",
    "    response = requests.post(url, headers=headers, json=payload)\n",
    "    if response.status_code == 200:\n",
    "        return response.json()[\"response\"]\n",
    "    else:\n",
    "        print(f\"[ERROR] Status: {response.status_code}\")\n",
    "        print(response.text)\n",
    "        return None\n",
    "\n",
    "# Test it!\n",
    "question = \"What is the famous dish sinigang in the Philippines?\"   \n",
    "result = categorize_query_with_gemma(question)\n",
    "print(result)\n"
   ]
  }
 ],
 "metadata": {
  "kernelspec": {
   "display_name": ".venv",
   "language": "python",
   "name": "python3"
  },
  "language_info": {
   "codemirror_mode": {
    "name": "ipython",
    "version": 3
   },
   "file_extension": ".py",
   "mimetype": "text/x-python",
   "name": "python",
   "nbconvert_exporter": "python",
   "pygments_lexer": "ipython3",
   "version": "3.13.1"
  }
 },
 "nbformat": 4,
 "nbformat_minor": 5
}
